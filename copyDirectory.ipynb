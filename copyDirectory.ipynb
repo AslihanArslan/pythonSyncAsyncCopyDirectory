{
 "cells": [
  {
   "cell_type": "markdown",
   "metadata": {},
   "source": [
    "## SENKRON"
   ]
  },
  {
   "cell_type": "code",
   "execution_count": 2,
   "metadata": {},
   "outputs": [
    {
     "name": "stdout",
     "output_type": "stream",
     "text": [
      "From /home/aslihan/Desktop/x/pythonSyncAsyncCopyDirectory/sync/d to /home/aslihan/Desktop/x/pythonSyncAsyncCopyDirectory/sync/dCopy.\n",
      "From /home/aslihan/Desktop/x/pythonSyncAsyncCopyDirectory/sync/e to /home/aslihan/Desktop/x/pythonSyncAsyncCopyDirectory/sync/eCopy.\n",
      "From /home/aslihan/Desktop/x/pythonSyncAsyncCopyDirectory/sync/a to /home/aslihan/Desktop/x/pythonSyncAsyncCopyDirectory/sync/aCopy.\n",
      "From /home/aslihan/Desktop/x/pythonSyncAsyncCopyDirectory/sync/b to /home/aslihan/Desktop/x/pythonSyncAsyncCopyDirectory/sync/bCopy.\n",
      "From /home/aslihan/Desktop/x/pythonSyncAsyncCopyDirectory/sync/c to /home/aslihan/Desktop/x/pythonSyncAsyncCopyDirectory/sync/cCopy.\n",
      "Total time:0.057012319564819336\n"
     ]
    }
   ],
   "source": [
    "import distutils.dir_util\n",
    "from distutils.dir_util import copy_tree\n",
    "import glob\n",
    "import time\n",
    "x = glob.glob(\"/pythonSyncAsyncCopyDirectory/sync/*\")\n",
    "\n",
    "startTime = time.time()\n",
    "\n",
    "def copy_sync(src, dst):\n",
    "    print(\"From %s to %s.\" % (src, dst))\n",
    "    distutils.dir_util._path_created = {}\n",
    "    return copy_tree(src, dst)\n",
    "  \n",
    "def main():\n",
    "    for i in range(len(x)):\n",
    "        copy_sync(x[i],x[i]+\"Copy\")\n",
    "    \n",
    "main()\n",
    "finishTime = time.time()\n",
    "print(\"Total time:\" + str(finishTime - startTime))"
   ]
  },
  {
   "cell_type": "markdown",
   "metadata": {},
   "source": [
    "## ASENKRON"
   ]
  },
  {
   "cell_type": "code",
   "execution_count": 3,
   "metadata": {},
   "outputs": [
    {
     "name": "stdout",
     "output_type": "stream",
     "text": [
      "From /home/aslihan/Desktop/x/pythonSyncAsyncCopyDirectory/async/d to /home/aslihan/Desktop/x/pythonSyncAsyncCopyDirectory/async/dCopy.\n",
      "From /home/aslihan/Desktop/x/pythonSyncAsyncCopyDirectory/async/e to /home/aslihan/Desktop/x/pythonSyncAsyncCopyDirectory/async/eCopy.\n",
      "From /home/aslihan/Desktop/x/pythonSyncAsyncCopyDirectory/async/a to /home/aslihan/Desktop/x/pythonSyncAsyncCopyDirectory/async/aCopy.\n",
      "From /home/aslihan/Desktop/x/pythonSyncAsyncCopyDirectory/async/b to /home/aslihan/Desktop/x/pythonSyncAsyncCopyDirectory/async/bCopy.\n",
      "From /home/aslihan/Desktop/x/pythonSyncAsyncCopyDirectory/async/c to /home/aslihan/Desktop/x/pythonSyncAsyncCopyDirectory/async/cCopy.\n",
      "Total time:0.041463375091552734\n"
     ]
    }
   ],
   "source": [
    "import asyncio\n",
    "import distutils.dir_util\n",
    "from distutils.dir_util import copy_tree\n",
    "import glob\n",
    "import time\n",
    "x = glob.glob(\"/pythonSyncAsyncCopyDirectory/async/*\")\n",
    "startTime = time.time()\n",
    "\n",
    "async def copy_async(src, dst):\n",
    "    print(\"From %s to %s.\" % (src, dst))\n",
    "    distutils.dir_util._path_created = {}\n",
    "    return copy_tree(src, dst)\n",
    "  \n",
    "\n",
    "async def main():\n",
    "    for i in range(len(x)):\n",
    "        await asyncio.wait([copy_async(x[i],x[i]+\"Copy\")])\n",
    "\n",
    "loop = asyncio.get_event_loop()\n",
    "loop.run_until_complete(main())\n",
    "finishTime = time.time()\n",
    "print(\"Total time:\" + str(finishTime - startTime))"
   ]
  },
  {
   "cell_type": "code",
   "execution_count": null,
   "metadata": {},
   "outputs": [],
   "source": []
  }
 ],
 "metadata": {
  "kernelspec": {
   "display_name": "Python 3",
   "language": "python",
   "name": "python3"
  },
  "language_info": {
   "codemirror_mode": {
    "name": "ipython",
    "version": 3
   },
   "file_extension": ".py",
   "mimetype": "text/x-python",
   "name": "python",
   "nbconvert_exporter": "python",
   "pygments_lexer": "ipython3",
   "version": "3.6.9"
  }
 },
 "nbformat": 4,
 "nbformat_minor": 2
}
